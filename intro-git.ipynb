{
 "cells": [
  {
   "cell_type": "code",
   "execution_count": 1,
   "id": "596680cb-e48e-4b81-b3f8-4c38997960f0",
   "metadata": {},
   "outputs": [],
   "source": [
    "%%bash\n",
    "#cleanup\n",
    "rm -Rf example-part-1"
   ]
  },
  {
   "cell_type": "markdown",
   "id": "ad47503e-7294-48ec-9695-acaaa8af193c",
   "metadata": {},
   "source": [
    "# An introduction to git\n",
    "\n",
    "According to [Wikipedia](https://en.wikipedia.org/wiki/Git):\n",
    "\n",
    "- **Git** is a distributed version control system designed to track versions of files.\n",
    "- While Git is primarily used by programmers to collaboratively develop software, it can manage version control for any type of file. \n",
    "- One of Git's unique features is that it maintains a complete local copy of the entire repository (commonly referred to as a **repo**). \n",
    "  This independence from network access or a central server sets Git apart from other tools.\n",
    "- For collaboration, Git enables synchronization with repositories on **remote** machines. \n",
    "  Although all repositories with the same history are considered peers, developers often rely on a central server.\n",
    "\n",
    "Git’s decentralized design makes it a powerful tool for both individual developers and teams working on complex projects.\n",
    "\n",
    "## 1. Using git locally\n",
    "\n",
    "Let's start by creating an (empty) repo:"
   ]
  },
  {
   "cell_type": "code",
   "execution_count": 2,
   "id": "21404651-a921-4ef6-819e-ca2469f304b1",
   "metadata": {},
   "outputs": [
    {
     "name": "stdout",
     "output_type": "stream",
     "text": [
      "Initialized empty Git repository in /home/pierre/code/presentation-git/example-part-1/.git/\n"
     ]
    }
   ],
   "source": [
    "%%bash\n",
    "mkdir example-part-1\n",
    "cd example-part-1\n",
    "git init"
   ]
  },
  {
   "cell_type": "markdown",
   "id": "401580d1-1631-4e86-95fa-33a098fad656",
   "metadata": {},
   "source": [
    "A bit of Jupyter magic, not important for you:"
   ]
  },
  {
   "cell_type": "code",
   "execution_count": 3,
   "id": "128504d0-4c89-4145-bc47-dcf7288adfc3",
   "metadata": {},
   "outputs": [
    {
     "name": "stdout",
     "output_type": "stream",
     "text": [
      "/home/pierre/code/presentation-git/example-part-1\n"
     ]
    },
    {
     "name": "stderr",
     "output_type": "stream",
     "text": [
      "/home/pierre/code/presentation-git/venv/lib64/python3.13/site-packages/IPython/core/magics/osm.py:417: UserWarning: This is now an optional IPython functionality, setting dhist requires you to install the `pickleshare` library.\n",
      "  self.shell.db['dhist'] = compress_dhist(dhist)[-100:]\n"
     ]
    },
    {
     "data": {
      "text/plain": [
       "'/home/pierre/code/presentation-git/example-part-1'"
      ]
     },
     "execution_count": 3,
     "metadata": {},
     "output_type": "execute_result"
    }
   ],
   "source": [
    "%cd example-part-1\n",
    "%pwd"
   ]
  },
  {
   "cell_type": "markdown",
   "id": "4a8622e1-8eac-44ee-bbb8-70e0e0cca750",
   "metadata": {},
   "source": [
    "### Snapshot (*commit*)\n",
    "\n",
    "Now, let's create a first snapshot (*i.e.*, a **commit**):"
   ]
  },
  {
   "cell_type": "code",
   "execution_count": 4,
   "id": "7c4c8e73-17cf-40e4-aeba-49948d404783",
   "metadata": {},
   "outputs": [
    {
     "name": "stdout",
     "output_type": "stream",
     "text": [
      "[main (root-commit) c154db8] A first commit\n",
      " 1 file changed, 1 insertion(+)\n",
      " create mode 100644 file1\n"
     ]
    }
   ],
   "source": [
    "%%bash\n",
    "# create a file\n",
    "echo \"Hello git!\" > file1\n",
    "# add it and create a commit\n",
    "git add file1\n",
    "git commit -m \"A first commit\""
   ]
  },
  {
   "cell_type": "markdown",
   "id": "29611665-dbfe-460d-86d3-dca91d769a82",
   "metadata": {},
   "source": [
    "Note that:\n",
    "\n",
    "+ By default, a file is not tracked, so one needs to `git add` it.\n",
    "+ In practice, delta are stored, not files.\n",
    "+ The commit message could be whatever you want, but people generally report what has changed.\n",
    "\n",
    "### Making and adding changes\n",
    "\n",
    "The `git status` provides the state of the repo:"
   ]
  },
  {
   "cell_type": "code",
   "execution_count": 5,
   "id": "64146033-c3d2-4a81-af7e-6897e1a40a41",
   "metadata": {},
   "outputs": [
    {
     "name": "stdout",
     "output_type": "stream",
     "text": [
      "On branch main\n",
      "nothing to commit, working tree clean\n"
     ]
    }
   ],
   "source": [
    "%%bash\n",
    "git status"
   ]
  },
  {
   "cell_type": "markdown",
   "id": "9ea405a1-8889-410a-afd5-7eab15eadc14",
   "metadata": {},
   "source": [
    "Let's introduce a change:"
   ]
  },
  {
   "cell_type": "code",
   "execution_count": 6,
   "id": "bebfc6cc-a3f8-46c6-9771-cc29e29e55ad",
   "metadata": {},
   "outputs": [
    {
     "name": "stdout",
     "output_type": "stream",
     "text": [
      "On branch main\n",
      "Changes not staged for commit:\n",
      "  (use \"git add <file>...\" to update what will be committed)\n",
      "  (use \"git restore <file>...\" to discard changes in working directory)\n",
      "\tmodified:   file1\n",
      "\n",
      "no changes added to commit (use \"git add\" and/or \"git commit -a\")\n"
     ]
    }
   ],
   "source": [
    "%%bash\n",
    "echo \"changed\" > file1\n",
    "git status"
   ]
  },
  {
   "cell_type": "markdown",
   "id": "f290d72f-1a85-4780-a4d8-8d8af463ecec",
   "metadata": {},
   "source": [
    "As indicated by the output, using `git commit` would report no change (and would refuse to commit). Indeed, you **need** to do `git add file1`. When you do so, the you add are **staged**, *i.e.*, ready to become part of the next commit.\n",
    "\n",
    "Another option is to use:"
   ]
  },
  {
   "cell_type": "code",
   "execution_count": 7,
   "id": "a3581509-a43c-41b9-8271-34780455778a",
   "metadata": {},
   "outputs": [
    {
     "name": "stdout",
     "output_type": "stream",
     "text": [
      "[main 089823d] add file1\n",
      " 1 file changed, 1 insertion(+), 1 deletion(-)\n"
     ]
    }
   ],
   "source": [
    "%%bash\n",
    "git commit -a -m \"add file1\"  # or `git -am \"...\"`"
   ]
  },
  {
   "cell_type": "markdown",
   "id": "c8a010b1-4194-4dcc-8e15-21362768c8d3",
   "metadata": {},
   "source": [
    "And then, you can see the history of your commits with:"
   ]
  },
  {
   "cell_type": "code",
   "execution_count": 8,
   "id": "84194d46-af96-4090-b8a6-ec4257743b7f",
   "metadata": {},
   "outputs": [
    {
     "name": "stdout",
     "output_type": "stream",
     "text": [
      "commit 089823d6b1e436bc3ed6812745519bfac3cb30e1\n",
      "Author: pierre-24 <pierreb24@gmail.com>\n",
      "Date:   Sat Dec 14 13:38:04 2024 +0100\n",
      "\n",
      "    add file1\n",
      "\n",
      "commit c154db80647f6caaa1f36eb6211c2486d7462aeb\n",
      "Author: pierre-24 <pierreb24@gmail.com>\n",
      "Date:   Sat Dec 14 13:38:04 2024 +0100\n",
      "\n",
      "    A first commit\n"
     ]
    }
   ],
   "source": [
    "%%bash\n",
    "git log"
   ]
  },
  {
   "cell_type": "markdown",
   "id": "d249cffe-97c2-4dcf-8ace-32b83c91159b",
   "metadata": {},
   "source": [
    "You can, of course, add multiple file at once, or even directories (with **all** their content):"
   ]
  },
  {
   "cell_type": "code",
   "execution_count": 9,
   "id": "533c2378-799c-409a-bb4c-daed7b1068e0",
   "metadata": {},
   "outputs": [],
   "source": [
    "%%bash\n",
    "# add multiple files\n",
    "echo \"another\" > file2\n",
    "echo \"another other\" > file3\n",
    "git add file2 file3\n",
    "# add a directory and all(!) its content\n",
    "mkdir directory\n",
    "echo \"another other other\" > directory/file4\n",
    "git add directory"
   ]
  },
  {
   "cell_type": "markdown",
   "id": "5f62d667-7518-447b-aba8-769b2f0862da",
   "metadata": {},
   "source": [
    "The status now indicates:"
   ]
  },
  {
   "cell_type": "code",
   "execution_count": 10,
   "id": "d9c7e7cc-251b-491c-aafb-24444aca1fec",
   "metadata": {},
   "outputs": [
    {
     "name": "stdout",
     "output_type": "stream",
     "text": [
      "On branch main\n",
      "Changes to be committed:\n",
      "  (use \"git restore --staged <file>...\" to unstage)\n",
      "\tnew file:   directory/file4\n",
      "\tnew file:   file2\n",
      "\tnew file:   file3\n",
      "\n"
     ]
    }
   ],
   "source": [
    "%%bash\n",
    "git status"
   ]
  },
  {
   "cell_type": "markdown",
   "id": "96856c31-4fa9-45a1-9597-25c0454138e9",
   "metadata": {},
   "source": [
    "Let's commit that:"
   ]
  },
  {
   "cell_type": "code",
   "execution_count": 11,
   "id": "6a2b7b21-ccad-4d87-b3bd-91545eeb8769",
   "metadata": {},
   "outputs": [
    {
     "name": "stdout",
     "output_type": "stream",
     "text": [
      "[main 6e68dcb] add stuffs\n",
      " 3 files changed, 3 insertions(+)\n",
      " create mode 100644 directory/file4\n",
      " create mode 100644 file2\n",
      " create mode 100644 file3\n"
     ]
    }
   ],
   "source": [
    "%%bash\n",
    "git commit -am \"add stuffs\""
   ]
  },
  {
   "cell_type": "markdown",
   "id": "b9c96701-234e-4787-b6de-3f06b8f5db2a",
   "metadata": {},
   "source": [
    "However, there are some file that you do not want to version (intermediate files, compiler logs, etc) → add them to a `.gitignore` file:"
   ]
  },
  {
   "cell_type": "code",
   "execution_count": 12,
   "id": "5e06f482-012f-474d-96df-8b7351ec5257",
   "metadata": {},
   "outputs": [
    {
     "name": "stdout",
     "output_type": "stream",
     "text": [
      "On branch main\n",
      "Untracked files:\n",
      "  (use \"git add <file>...\" to include in what will be committed)\n",
      "\ttest.log\n",
      "\n",
      "nothing added to commit but untracked files present (use \"git add\" to track)\n"
     ]
    }
   ],
   "source": [
    "%%bash\n",
    "echo \"a log file\" > test.log\n",
    "git status "
   ]
  },
  {
   "cell_type": "markdown",
   "id": "436e5aed-ae03-485a-acd0-bbcf19af5fc5",
   "metadata": {},
   "source": [
    "So far, nothing new. But if I add a rule into `.gitignore`, then:"
   ]
  },
  {
   "cell_type": "code",
   "execution_count": 13,
   "id": "40c857fa-665e-4afa-a793-e9d8aac5ca4d",
   "metadata": {},
   "outputs": [
    {
     "name": "stdout",
     "output_type": "stream",
     "text": [
      "On branch main\n",
      "Changes to be committed:\n",
      "  (use \"git restore --staged <file>...\" to unstage)\n",
      "\tnew file:   .gitignore\n",
      "\n"
     ]
    }
   ],
   "source": [
    "%%bash\n",
    "echo \"*.log\" > .gitignore\n",
    "git add .gitignore\n",
    "git status "
   ]
  },
  {
   "cell_type": "markdown",
   "id": "acc44f0b-db2c-4a0a-a0b3-aeba1cbffaab",
   "metadata": {},
   "source": [
    "... The `test.log` file is not listed. Even better, I cannot add it by mistake:"
   ]
  },
  {
   "cell_type": "code",
   "execution_count": 14,
   "id": "aa0e069b-c27a-4182-8919-b7c208e57edd",
   "metadata": {},
   "outputs": [
    {
     "name": "stderr",
     "output_type": "stream",
     "text": [
      "The following paths are ignored by one of your .gitignore files:\n",
      "test.log\n",
      "hint: Use -f if you really want to add them.\n",
      "hint: Disable this message with \"git config advice.addIgnoredFile false\"\n"
     ]
    }
   ],
   "source": [
    "%%bash --no-raise-error\n",
    "git add test.log"
   ]
  },
  {
   "cell_type": "markdown",
   "id": "0c691c37-6948-4111-814d-84ced527c14a",
   "metadata": {},
   "source": [
    "In practice:\n",
    "\n",
    "+ Add one rule per line (you can use wildcards, as seen above).\n",
    "+ Use <https://gitignore.io> to generate a `.gitignore` file that fits your repo."
   ]
  },
  {
   "cell_type": "markdown",
   "id": "834180d0-4a84-46fb-90c3-ee75e7789287",
   "metadata": {},
   "source": [
    "### Branching and navigating\n",
    "\n",
    "So far, the history is linear. But it could be nice to have to work on different things at the same time. So git introduced the concept of **branches**. In fact, git is not very useful if you work only a single branch (say, `main`), appart for the history of the modifications.\n",
    "\n",
    "```mermaid\n",
    "    gitGraph\n",
    "       commit\n",
    "       commit\n",
    "       branch new-feature\n",
    "       commit\n",
    "       checkout main\n",
    "       commit\n",
    "       branch another-feature\n",
    "       commit\n",
    "```\n",
    "\n",
    "(note: this example is ficticious)\n",
    "\n",
    "The first branch is called `main` (or `master`, in older version of git). Good practices recommand that you keep that branch \"clean\", and that you do any heavy work in a separate branch that you can later \"reconcile\" with your main branch.\n",
    "\n",
    "To create a new branch **from the current commit**:"
   ]
  },
  {
   "cell_type": "code",
   "execution_count": 15,
   "id": "7dc2cb94-e76c-481e-bcc9-655fca170306",
   "metadata": {},
   "outputs": [
    {
     "name": "stderr",
     "output_type": "stream",
     "text": [
      "Switched to a new branch 'new-feature'\n"
     ]
    }
   ],
   "source": [
    "%%bash\n",
    "git switch -c new-feature  # or `git checkout -b new-feature`"
   ]
  },
  {
   "cell_type": "markdown",
   "id": "ba40f75e-5cc4-46d0-bde5-7ff70639836d",
   "metadata": {},
   "source": [
    "Let's make some changes in that branch, for the fun of it:"
   ]
  },
  {
   "cell_type": "code",
   "execution_count": 16,
   "id": "c5546bf4-6a4e-4a0b-93f9-b6bab9f51180",
   "metadata": {},
   "outputs": [
    {
     "name": "stdout",
     "output_type": "stream",
     "text": [
      "[new-feature 2afe5e2] add new feature\n",
      " 2 files changed, 2 insertions(+), 1 deletion(-)\n",
      " create mode 100644 .gitignore\n"
     ]
    }
   ],
   "source": [
    "%%bash\n",
    "echo \"content for new branch\" > file1\n",
    "git commit -am \"add new feature\""
   ]
  },
  {
   "cell_type": "markdown",
   "id": "bc968336-a21f-4e44-b54d-2feb9730b286",
   "metadata": {},
   "source": [
    "It is, of course, possible to switch from one branch to another (**once you have commited all changes**):"
   ]
  },
  {
   "cell_type": "code",
   "execution_count": 17,
   "id": "ceddabc7-a4d9-40ad-946f-c7a7fcb2ab55",
   "metadata": {},
   "outputs": [
    {
     "name": "stdout",
     "output_type": "stream",
     "text": [
      "content for new branch\n"
     ]
    },
    {
     "name": "stderr",
     "output_type": "stream",
     "text": [
      "Switched to branch 'main'\n"
     ]
    },
    {
     "name": "stdout",
     "output_type": "stream",
     "text": [
      "changed\n"
     ]
    }
   ],
   "source": [
    "%%bash \n",
    "cat file1\n",
    "git switch main  # or `git checkout main`\n",
    "cat file1"
   ]
  },
  {
   "cell_type": "markdown",
   "id": "298a008b-b4df-4850-b19e-e92532b6739a",
   "metadata": {},
   "source": [
    "Note that you can walk trough history by different means:\n",
    "\n",
    "+ The `git checkout` command allow you to move through history (*i.e.*, move the **index**). When you look at `git log`, you can see that all commit are associated with a hash (a long hexadecimal number). Using `git checkout xxxxxx` move you to that point. Note that it is not recommended to directly edit files from a random point in time (unless it is the last commit of the branch, of course). You can however start a new branch from that point and deal with the consequences later ;)\n",
    "+ Another way to visualize changes (without moving in time) is to use `git diff xxxxxx`, which will display the changes since that commit (although in the so-called *diff* format)."
   ]
  },
  {
   "cell_type": "code",
   "execution_count": 18,
   "id": "31022645-d30c-4e4c-8b65-f82323f5fa47",
   "metadata": {},
   "outputs": [
    {
     "name": "stderr",
     "output_type": "stream",
     "text": [
      "Switched to branch 'new-feature'\n"
     ]
    },
    {
     "name": "stdout",
     "output_type": "stream",
     "text": [
      "commit 2afe5e286aed8d9b85fa93ee1d55b5124c1bbd5f\n",
      "Author: pierre-24 <pierreb24@gmail.com>\n",
      "Date:   Sat Dec 14 13:38:04 2024 +0100\n",
      "\n",
      "    add new feature\n",
      "\n",
      "commit 6e68dcb2546c65accccf435d32869747ed8b2c8e\n",
      "Author: pierre-24 <pierreb24@gmail.com>\n",
      "Date:   Sat Dec 14 13:38:04 2024 +0100\n",
      "\n",
      "    add stuffs\n",
      "\n",
      "commit 089823d6b1e436bc3ed6812745519bfac3cb30e1\n",
      "Author: pierre-24 <pierreb24@gmail.com>\n",
      "Date:   Sat Dec 14 13:38:04 2024 +0100\n",
      "\n",
      "    add file1\n",
      "\n",
      "commit c154db80647f6caaa1f36eb6211c2486d7462aeb\n",
      "Author: pierre-24 <pierreb24@gmail.com>\n",
      "Date:   Sat Dec 14 13:38:04 2024 +0100\n",
      "\n",
      "    A first commit\n"
     ]
    }
   ],
   "source": [
    "%%bash\n",
    "git switch new-feature\n",
    "git log\n",
    "# git diff 125b7f2"
   ]
  },
  {
   "cell_type": "markdown",
   "id": "00f00e9b-6b63-4e97-8383-c1a45072878f",
   "metadata": {},
   "source": [
    "... So to actually navigate history and visualize, it might be easier to use graphical tools ;)\n",
    "\n",
    "### Merging branches\n",
    "\n",
    "So far (according to `git log`), we are in this kind of situation:\n",
    "\n",
    "```mermaid\n",
    "    gitGraph\n",
    "       commit id: \"A first commit\"\n",
    "       commit id: \"add file1\"\n",
    "       commit id: \"add stuffs\"\n",
    "       branch new-feature\n",
    "       commit id: \"add new feature\"\n",
    "```\n",
    "\n",
    "Say we are happy with the changes done in `new-feature` and we want to incorporate them in `main`. This operation is a *merge*:"
   ]
  },
  {
   "cell_type": "code",
   "execution_count": 19,
   "id": "d9725762-511d-4764-80ec-e21238bf88c3",
   "metadata": {},
   "outputs": [
    {
     "name": "stderr",
     "output_type": "stream",
     "text": [
      "Switched to branch 'main'\n"
     ]
    },
    {
     "name": "stdout",
     "output_type": "stream",
     "text": [
      "Updating 6e68dcb..2afe5e2\n",
      "Fast-forward\n",
      " .gitignore | 1 +\n",
      " file1      | 2 +-\n",
      " 2 files changed, 2 insertions(+), 1 deletion(-)\n",
      " create mode 100644 .gitignore\n"
     ]
    }
   ],
   "source": [
    "%%bash\n",
    "# switch back to main\n",
    "git switch main\n",
    "# merge new-feature into main\n",
    "git merge new-feature"
   ]
  },
  {
   "cell_type": "markdown",
   "id": "c009b8cd-cf4d-45ab-bd44-55b8d67ba38b",
   "metadata": {},
   "source": [
    "We will see later that this may result in conflicts, but this is not the case here.\n",
    "\n",
    "The result of this operation is:\n",
    "\n",
    "```mermaid\n",
    "    gitGraph\n",
    "       commit id: \"A first commit\"\n",
    "       commit id: \"add file1\"\n",
    "       commit id: \"add stuffs\"\n",
    "       branch new-feature\n",
    "       commit id: \"add new feature\"\n",
    "       checkout main\n",
    "       merge new-feature\n",
    "```\n",
    "\n",
    "Which is actually equivalent to:\n",
    "\n",
    "```mermaid\n",
    "    gitGraph\n",
    "       commit id: \"A first commit\"\n",
    "       commit id: \"add file1\"\n",
    "       commit id: \"add stuffs\"\n",
    "       commit id: \"add new feature\"\n",
    "```\n",
    "\n",
    "So the change is incorporated in `main`. Now that we are done with `new-feature`, we can delete it:"
   ]
  },
  {
   "cell_type": "code",
   "execution_count": 20,
   "id": "183a74cb-e2c2-4256-b9cc-34f530bf74d2",
   "metadata": {},
   "outputs": [
    {
     "name": "stdout",
     "output_type": "stream",
     "text": [
      "Deleted branch new-feature (was 2afe5e2).\n"
     ]
    }
   ],
   "source": [
    "%%bash\n",
    "git branch -d new-feature"
   ]
  },
  {
   "cell_type": "markdown",
   "id": "1f9a7dc4-38ff-4752-8dd7-41e487953eb5",
   "metadata": {},
   "source": [
    "Note that you can also tag the current commit, so that it has a special meaning (and you can easily `git checkout THE_TAG` if any):"
   ]
  },
  {
   "cell_type": "code",
   "execution_count": 21,
   "id": "ca286dbb-00d4-4d50-a3c7-d5de91ca630a",
   "metadata": {},
   "outputs": [],
   "source": [
    "%%bash\n",
    "git tag v0.2"
   ]
  },
  {
   "cell_type": "markdown",
   "id": "498c40cb-3d3a-4878-9215-2d560824e856",
   "metadata": {},
   "source": [
    "### Dealing with conflicts: a first approach\n",
    "\n",
    "Let's create a conflict by editing the same file in two different branches:"
   ]
  },
  {
   "cell_type": "code",
   "execution_count": 22,
   "id": "fb60a681-02f6-4a06-b17b-67bf5809020f",
   "metadata": {},
   "outputs": [
    {
     "name": "stderr",
     "output_type": "stream",
     "text": [
      "Switched to a new branch 'another-feature'\n"
     ]
    },
    {
     "name": "stdout",
     "output_type": "stream",
     "text": [
      "[another-feature dcf674c] edit file2 in branch another-feature\n",
      " 1 file changed, 1 insertion(+), 1 deletion(-)\n"
     ]
    },
    {
     "name": "stderr",
     "output_type": "stream",
     "text": [
      "Switched to branch 'main'\n"
     ]
    },
    {
     "name": "stdout",
     "output_type": "stream",
     "text": [
      "[main 9be9e4e] edit file2 in branch main\n",
      " 1 file changed, 1 insertion(+), 1 deletion(-)\n"
     ]
    }
   ],
   "source": [
    "%%bash\n",
    "# create a new branch and edit file2\n",
    "git switch -c another-feature\n",
    "echo \"edited in branch another-feature\" > file2\n",
    "git commit -am \"edit file2 in branch another-feature\"\n",
    "# switch back to main and also edit file2\n",
    "git switch main\n",
    "echo \"edited in branch main\" > file2\n",
    "git commit -am \"edit file2 in branch main\""
   ]
  },
  {
   "cell_type": "markdown",
   "id": "aface69e-21b8-4333-885e-07c8621004bd",
   "metadata": {},
   "source": [
    "Now, if we try to merge `another-feature` in `main`, it reports a conflict:"
   ]
  },
  {
   "cell_type": "code",
   "execution_count": 23,
   "id": "db834f73-7f6d-4e27-915c-e660210332f7",
   "metadata": {},
   "outputs": [
    {
     "name": "stdout",
     "output_type": "stream",
     "text": [
      "Auto-merging file2\n",
      "CONFLICT (content): Merge conflict in file2\n",
      "Automatic merge failed; fix conflicts and then commit the result.\n"
     ]
    }
   ],
   "source": [
    "%%bash --no-raise-error\n",
    "git merge another-feature"
   ]
  },
  {
   "cell_type": "markdown",
   "id": "ab2242cb-a1da-4f43-8d57-71996224dc7b",
   "metadata": {},
   "source": [
    "Note that you cannot continue to use git if you don't resolve the conflict (but you can cancel the whole operation with `git merge --abort`).\n",
    "\n",
    "The content of the file clearly indicates the conflict:"
   ]
  },
  {
   "cell_type": "code",
   "execution_count": 24,
   "id": "5a0e6617-ef90-4207-a5db-f56e64de03db",
   "metadata": {},
   "outputs": [
    {
     "name": "stdout",
     "output_type": "stream",
     "text": [
      "<<<<<<< HEAD\n",
      "edited in branch main\n",
      "=======\n",
      "edited in branch another-feature\n",
      ">>>>>>> another-feature\n"
     ]
    }
   ],
   "source": [
    "%%bash\n",
    "cat file2"
   ]
  },
  {
   "cell_type": "markdown",
   "id": "5434e9af-9158-4c81-bb65-27694fe64dcd",
   "metadata": {},
   "source": [
    "Here, the `=======` line indicates the divergence. All the content above this line and after `<<<<<<< HEAD` line is content that exists in the current branch. Furthermore, all content below this line and before `>>>>>>> another feature` is content that is present in the other branch.\n",
    "\n",
    "To solve the conflict, just make up your mind on what should be the content, `git add` the conflicting file and commit the result. If you know which version is the good one, you can however use `git checkout` with `--our` (take the version of the current branch) or `--their` (take the version of the merging branch). For example:\n"
   ]
  },
  {
   "cell_type": "code",
   "execution_count": 25,
   "id": "20889c46-ecb9-4ca1-a239-8ceb1bad2f90",
   "metadata": {},
   "outputs": [
    {
     "name": "stderr",
     "output_type": "stream",
     "text": [
      "Updated 1 path from the index\n"
     ]
    },
    {
     "name": "stdout",
     "output_type": "stream",
     "text": [
      "edited in branch another-feature\n"
     ]
    }
   ],
   "source": [
    "%%bash\n",
    "git checkout --their file2\n",
    "cat file2"
   ]
  },
  {
   "cell_type": "markdown",
   "id": "519ef457-fba9-446b-a10b-c55a14ec2d4a",
   "metadata": {},
   "source": [
    "or:"
   ]
  },
  {
   "cell_type": "code",
   "execution_count": 26,
   "id": "192d27a6-87c1-4ed2-a29d-340f264b1cfc",
   "metadata": {},
   "outputs": [
    {
     "name": "stderr",
     "output_type": "stream",
     "text": [
      "Updated 1 path from the index\n"
     ]
    },
    {
     "name": "stdout",
     "output_type": "stream",
     "text": [
      "edited in branch main\n"
     ]
    }
   ],
   "source": [
    "%%bash\n",
    "git checkout --our file2\n",
    "cat file2"
   ]
  },
  {
   "cell_type": "markdown",
   "id": "f3030e73-cf1e-458b-afba-22f836b60947",
   "metadata": {},
   "source": [
    "And if we commit, we are good to go:"
   ]
  },
  {
   "cell_type": "code",
   "execution_count": 27,
   "id": "6ac18bef-fd2c-4d6f-84b4-9151089e4943",
   "metadata": {},
   "outputs": [
    {
     "name": "stdout",
     "output_type": "stream",
     "text": [
      "[main 65c1e4a] solve conflict\n",
      "commit 65c1e4a9bfa2540da4cf3a6cf48594f4d417a634\n",
      "Merge: 9be9e4e dcf674c\n",
      "Author: pierre-24 <pierreb24@gmail.com>\n",
      "Date:   Sat Dec 14 13:38:04 2024 +0100\n",
      "\n",
      "    solve conflict\n",
      "\n",
      "commit 9be9e4eff103eb2791a3f3890709bb86ee8a8800\n",
      "Author: pierre-24 <pierreb24@gmail.com>\n",
      "Date:   Sat Dec 14 13:38:04 2024 +0100\n",
      "\n",
      "    edit file2 in branch main\n",
      "\n",
      "commit dcf674c35e00ac7bae7852bfbec49b615880f444\n",
      "Author: pierre-24 <pierreb24@gmail.com>\n",
      "Date:   Sat Dec 14 13:38:04 2024 +0100\n",
      "\n",
      "    edit file2 in branch another-feature\n"
     ]
    }
   ],
   "source": [
    "%%bash\n",
    "git commit -am \"solve conflict\"\n",
    "git log HEAD~2..HEAD"
   ]
  },
  {
   "attachments": {},
   "cell_type": "markdown",
   "id": "3ead18c9-9139-4c05-9690-9d31c4c89ece",
   "metadata": {},
   "source": [
    "As you can see, the history now contains all commits plus the commit to solve the conflict. We will see below that there are other strategies to deal with conflicts ;)\n",
    "\n",
    "### Going further\n",
    "\n",
    "We have covered the most useful commands (there are still a few worth of our attention below). However, to do more complicated stuffs (and mess up your history if you really want to), you can check:\n",
    "\n",
    "+ `git revert`: make a new commit that revert the effect of a previous one,\n",
    "+ `git reset`: move the history back to a previous commit, and discard all that comes after,\n",
    "+ `git commit --amend`: add the current changes to the previous commit (you can also change the commit message with `-am \"xxx\"`, as usual).\n",
    "+ `git squash`: merge different commits into one.\n",
    "+ `git cherry-pick`: select different commit from anywhere in your history and apply them in the current branch.\n",
    "\n",
    "## 2. Working with a remote (that you created or on which you can write)\n",
    "\n",
    "**Many of the commands in this section needs to be adapted to works in your case.**\n",
    "\n",
    "In preamble: a bit of black magic so that everything works:"
   ]
  },
  {
   "cell_type": "code",
   "execution_count": 28,
   "id": "5393dc8a-466e-4ac1-9105-a95636113b5d",
   "metadata": {},
   "outputs": [
    {
     "name": "stderr",
     "output_type": "stream",
     "text": [
      "X11 forwarding request failed on channel 0\n",
      "From github.com:pierre-24/test-repo-git\n",
      " * [new branch]      a-remote-branch   -> originx/a-remote-branch\n",
      " * [new branch]      an-example-branch -> originx/an-example-branch\n",
      " * [new branch]      branch-fail-tests -> originx/branch-fail-tests\n",
      " * [new branch]      main              -> originx/main\n",
      "X11 forwarding request failed on channel 0\n",
      "To github.com:pierre-24/test-repo-git.git\n",
      " + 4094de8...65c1e4a main -> main (forced update)\n"
     ]
    },
    {
     "name": "stdout",
     "output_type": "stream",
     "text": [
      "branch 'main' set up to track 'originx/main'.\n"
     ]
    },
    {
     "name": "stderr",
     "output_type": "stream",
     "text": [
      "error: branch 'a-remote-branch' not found\n",
      "X11 forwarding request failed on channel 0\n",
      "To github.com:pierre-24/test-repo-git.git\n",
      " - [deleted]         a-remote-branch\n",
      "Switched to a new branch 'a-remote-branch'\n"
     ]
    },
    {
     "name": "stdout",
     "output_type": "stream",
     "text": [
      "[a-remote-branch c7b5153] add remote_file\n",
      " 1 file changed, 1 insertion(+)\n",
      " create mode 100644 remote_file\n"
     ]
    },
    {
     "name": "stderr",
     "output_type": "stream",
     "text": [
      "Switched to branch 'main'\n"
     ]
    },
    {
     "name": "stdout",
     "output_type": "stream",
     "text": [
      "Your branch is up to date with 'originx/main'.\n"
     ]
    },
    {
     "name": "stderr",
     "output_type": "stream",
     "text": [
      "X11 forwarding request failed on channel 0\n",
      "remote: \n",
      "remote: Create a pull request for 'a-remote-branch' on GitHub by visiting:        \n",
      "remote:      https://github.com/pierre-24/test-repo-git/pull/new/a-remote-branch        \n",
      "remote: \n",
      "To github.com:pierre-24/test-repo-git.git\n",
      " * [new branch]      a-remote-branch -> a-remote-branch\n",
      "error: the branch 'a-remote-branch' is not fully merged\n",
      "hint: If you are sure you want to delete it, run 'git branch -D a-remote-branch'\n",
      "hint: Disable this message with \"git config advice.forceDeleteBranch false\"\n",
      "X11 forwarding request failed on channel 0\n",
      "To github.com:pierre-24/test-repo-git.git\n",
      " - [deleted]         an-example-branch\n",
      "X11 forwarding request failed on channel 0\n",
      "To github.com:pierre-24/test-repo-git.git\n",
      " - [deleted]         branch-fail-tests\n"
     ]
    }
   ],
   "source": [
    "%%bash\n",
    "../reset_for_part2.sh"
   ]
  },
  {
   "attachments": {
    "61821c61-7240-4f38-8564-c32d0fde2ea2.png": {
     "image/png": "[encoded data removed]"
    },
    "95356524-35e0-4c51-8ca1-48c556611fdf.png": {
     "image/png": "[encoded data removed]"
    }
   },
   "cell_type": "markdown",
   "id": "a5f09a47-8ab1-4eeb-b252-321e51f0e997",
   "metadata": {},
   "source": [
    "So far, our repo only exists in our computer. This is not very useful for sharing (or collaborative work, se below), so one needs to synchronize it with a *remote* location. Let's consider two platforms (there are other, with similar workflows): Github and Gitlab (the latter is available at UNamur at <https://gitlab.unamur.be>).\n",
    "\n",
    "### Create a repository on a remote and synchronize with it\n",
    "\n",
    "On github, the first step is to create a **new repository**:\n",
    "\n",
    "![image.png](attachment:61821c61-7240-4f38-8564-c32d0fde2ea2.png)\n",
    "\n",
    "On gitlab, you need to create a **new project**:\n",
    "\n",
    "![image.png](attachment:95356524-35e0-4c51-8ca1-48c556611fdf.png)\n",
    "\n",
    "In both cases, once the repo is created, the next step is to add the remote (which is conventionaly called `origin`):"
   ]
  },
  {
   "cell_type": "code",
   "execution_count": 29,
   "id": "436984c9-1716-4a92-8624-9613a1b58330",
   "metadata": {},
   "outputs": [],
   "source": [
    "%%bash\n",
    "# add remote\n",
    "git remote add origin git@github.com:pierre-24/test-repo-git.git"
   ]
  },
  {
   "cell_type": "markdown",
   "id": "559a97ce-8a18-4e53-83cb-d61e7a253a08",
   "metadata": {},
   "source": [
    "**Note:** for this to work, you need to have configured Github/Gitlab with a SSH key (see <https://docs.github.com/en/authentication/connecting-to-github-with-ssh/generating-a-new-ssh-key-and-adding-it-to-the-ssh-agent> and then <https://docs.github.com/en/authentication/connecting-to-github-with-ssh/adding-a-new-ssh-key-to-your-github-account>, similar procedures exists for gitlab). It is good practice to do so.\n",
    "\n",
    "Next step is to send your `main` branch to the repo:"
   ]
  },
  {
   "cell_type": "code",
   "execution_count": 30,
   "id": "6bbb978f-088f-4c5d-a7a1-025c4509c268",
   "metadata": {},
   "outputs": [
    {
     "name": "stderr",
     "output_type": "stream",
     "text": [
      "X11 forwarding request failed on channel 0\n",
      "Everything up-to-date\n"
     ]
    },
    {
     "name": "stdout",
     "output_type": "stream",
     "text": [
      "branch 'main' set up to track 'origin/main'.\n"
     ]
    }
   ],
   "source": [
    "%%bash\n",
    "git push -u origin main"
   ]
  },
  {
   "cell_type": "markdown",
   "id": "1e65ceab-3da9-45c7-a66b-e46408a8fae3",
   "metadata": {},
   "source": [
    "Notice that the output mention that, thanks to `-u` (`--upstream`), `main` is set up to track `origin/main`, which is a copy of the former in the repo. Both branches are linked, and local/remote change can be easily synchronized, as we will see later.\n",
    "\n",
    "### Sending your changes to `origin`\n",
    "\n",
    "Now, you need to regularly synchronize with `origin`. Let's introduce a new commit:"
   ]
  },
  {
   "cell_type": "code",
   "execution_count": 31,
   "id": "41c79ced-5bfb-41ff-8e9b-a165b5a0b839",
   "metadata": {},
   "outputs": [
    {
     "name": "stdout",
     "output_type": "stream",
     "text": [
      "[main 6c13873] yet another change\n",
      " 1 file changed, 1 insertion(+), 1 deletion(-)\n"
     ]
    }
   ],
   "source": [
    "%%bash\n",
    "echo \"yet another change\" > file1\n",
    "git commit -am \"yet another change\""
   ]
  },
  {
   "cell_type": "markdown",
   "id": "8d73ca7d-03c3-49f3-9855-690bc2a365e0",
   "metadata": {},
   "source": [
    "Rigth now, this commit is not yet in the remote repo, as seen in <https://github.com/pierre-24/test-repo-git/commits/main/>. To send it:"
   ]
  },
  {
   "cell_type": "code",
   "execution_count": 32,
   "id": "611fa2b5-eb3d-47b0-aee5-23616538e7df",
   "metadata": {},
   "outputs": [
    {
     "name": "stderr",
     "output_type": "stream",
     "text": [
      "X11 forwarding request failed on channel 0\n",
      "To github.com:pierre-24/test-repo-git.git\n",
      "   65c1e4a..6c13873  main -> main\n"
     ]
    }
   ],
   "source": [
    "%%bash\n",
    "git push"
   ]
  },
  {
   "cell_type": "markdown",
   "id": "652726b7-3c05-4d7b-8a80-f01788c044f0",
   "metadata": {},
   "source": [
    "No need to use `git push origin main`, as git knows that `main` tracks `origin/main`.\n",
    "\n",
    "If you create a new branch, you also need to push it:"
   ]
  },
  {
   "cell_type": "code",
   "execution_count": 33,
   "id": "4a4d42ad-e519-4bea-9ece-1ba79baec50e",
   "metadata": {},
   "outputs": [
    {
     "name": "stderr",
     "output_type": "stream",
     "text": [
      "Switched to a new branch 'an-example-branch'\n"
     ]
    },
    {
     "name": "stdout",
     "output_type": "stream",
     "text": [
      "[an-example-branch bd66bb0] yet another example\n",
      " 1 file changed, 1 insertion(+), 1 deletion(-)\n"
     ]
    },
    {
     "name": "stderr",
     "output_type": "stream",
     "text": [
      "X11 forwarding request failed on channel 0\n",
      "remote: \n",
      "remote: Create a pull request for 'an-example-branch' on GitHub by visiting:        \n",
      "remote:      https://github.com/pierre-24/test-repo-git/pull/new/an-example-branch        \n",
      "remote: \n",
      "To github.com:pierre-24/test-repo-git.git\n",
      " * [new branch]      an-example-branch -> an-example-branch\n"
     ]
    },
    {
     "name": "stdout",
     "output_type": "stream",
     "text": [
      "branch 'an-example-branch' set up to track 'origin/an-example-branch'.\n"
     ]
    }
   ],
   "source": [
    "%%bash\n",
    "# create a new branch for the fun of it\n",
    "git switch -c an-example-branch\n",
    "# make a commit in that branch\n",
    "echo \"modified\" > file1\n",
    "git commit -am \"yet another example\"\n",
    "# now, send it to origin\n",
    "git push -u origin an-example-branch"
   ]
  },
  {
   "cell_type": "markdown",
   "id": "5adef173-d7d6-4cfe-89f0-fefdd7a4844d",
   "metadata": {},
   "source": [
    "This new branch is now visible at <https://github.com/pierre-24/test-repo-git/branches>. We'll see below that it is possible to do the merge on Github (and it is generally preferable), but if you do it manually, just use `git push` at the end:"
   ]
  },
  {
   "cell_type": "code",
   "execution_count": 34,
   "id": "142e16af-0ead-452b-beb7-cdb3ecd36f29",
   "metadata": {},
   "outputs": [
    {
     "name": "stderr",
     "output_type": "stream",
     "text": [
      "Switched to branch 'main'\n"
     ]
    },
    {
     "name": "stdout",
     "output_type": "stream",
     "text": [
      "Your branch is up to date with 'origin/main'.\n",
      "Updating 6c13873..bd66bb0\n",
      "Fast-forward\n",
      " file1 | 2 +-\n",
      " 1 file changed, 1 insertion(+), 1 deletion(-)\n"
     ]
    },
    {
     "name": "stderr",
     "output_type": "stream",
     "text": [
      "X11 forwarding request failed on channel 0\n",
      "To github.com:pierre-24/test-repo-git.git\n",
      "   6c13873..bd66bb0  main -> main\n"
     ]
    }
   ],
   "source": [
    "%%bash\n",
    "git switch main\n",
    "git merge an-example-branch\n",
    "git push"
   ]
  },
  {
   "attachments": {
    "c799f76c-c7ed-4a84-bea7-1066efea929e.png": {
     "image/png": "[encoded data removed]"
    }
   },
   "cell_type": "markdown",
   "id": "9738ede8-1ed6-4053-87e7-fc202a0a3c86",
   "metadata": {},
   "source": [
    "And now, as seen at <https://github.com/pierre-24/test-repo-git/commits/main/>, this last commit is there. You may want to delete your branch on the remote at <https://github.com/pierre-24/test-repo-git/branches>, thought.\n",
    "\n",
    "By the way, you know enough to understand this joke:\n",
    "\n",
    "![image.png](attachment:c799f76c-c7ed-4a84-bea7-1066efea929e.png)\n",
    "\n",
    "### Getting changes from the remote\n",
    "\n",
    "As mentioned above, good practice is that you keep `main` up to date with the latest development, but do not directly make change in it (rather, you create a new branch, make changes there, tests them, and when you are happy, you *merge* back to `main`). This means that, if you start to collaborate, your remote `main` branch should update from time to time, and such change should be reflected locally (otherwise, you'll start to get in trouble since your local and remote history diverges). Let's see how to correctly deal with that.\n",
    "\n",
    "First of all, to keep in touch with the changes in `origin`, you can do:"
   ]
  },
  {
   "cell_type": "code",
   "execution_count": 35,
   "id": "d6713ecf-a916-4010-8874-873972ca125a",
   "metadata": {},
   "outputs": [
    {
     "name": "stderr",
     "output_type": "stream",
     "text": [
      "X11 forwarding request failed on channel 0\n",
      "From github.com:pierre-24/test-repo-git\n",
      " * [new branch]      a-remote-branch -> origin/a-remote-branch\n"
     ]
    }
   ],
   "source": [
    "%%bash\n",
    "git fetch origin"
   ]
  },
  {
   "cell_type": "markdown",
   "id": "4a554d20-97e3-4074-b410-59e2eee312c2",
   "metadata": {},
   "source": [
    "As you can see, there is a new branch, called `origin/a-remote-branch` that exists in the remote (as indicated by the prefix `origin`), and was just created locally. If you want to work on this branch, just switch to it:"
   ]
  },
  {
   "cell_type": "code",
   "execution_count": 36,
   "id": "6dcdc6b2-44ee-42ab-a564-a46f29b4f090",
   "metadata": {},
   "outputs": [
    {
     "name": "stderr",
     "output_type": "stream",
     "text": [
      "Switched to branch 'a-remote-branch'\n"
     ]
    }
   ],
   "source": [
    "%%bash\n",
    "git switch a-remote-branch"
   ]
  },
  {
   "cell_type": "markdown",
   "id": "66709825-c674-475e-b503-c36247bece2f",
   "metadata": {},
   "source": [
    "One can of course introduce more changes (but let's not forget to *push* them):"
   ]
  },
  {
   "cell_type": "code",
   "execution_count": 37,
   "id": "498917db-f720-445c-84df-62ab4255f259",
   "metadata": {},
   "outputs": [
    {
     "name": "stdout",
     "output_type": "stream",
     "text": [
      "[a-remote-branch eb75aeb] changed file2\n",
      " 1 file changed, 1 insertion(+), 1 deletion(-)\n"
     ]
    },
    {
     "name": "stderr",
     "output_type": "stream",
     "text": [
      "X11 forwarding request failed on channel 0\n",
      "To github.com:pierre-24/test-repo-git.git\n",
      "   c7b5153..eb75aeb  a-remote-branch -> a-remote-branch\n"
     ]
    },
    {
     "name": "stdout",
     "output_type": "stream",
     "text": [
      "branch 'a-remote-branch' set up to track 'origin/a-remote-branch'.\n"
     ]
    }
   ],
   "source": [
    "%%bash\n",
    "echo \"I start to get out of idea\" > file2\n",
    "git commit -am \"changed file2\"\n",
    "git push -u origin a-remote-branch"
   ]
  },
  {
   "attachments": {
    "4f9dfc05-1284-4b0f-92d2-04d0633c0775.png": {
     "image/png": "[encoded data removed]"
    },
    "8b11a99e-6cf6-4a35-9ba3-d6cb6ce96789.png": {
     "image/png": "[encoded data removed]"
    },
    "b007a1e5-4ce0-4eff-b63e-d04438678765.png": {
     "image/png": "[encoded data removed]"
    }
   },
   "cell_type": "markdown",
   "id": "44d9c872-ef32-4378-b747-d4fae0613264",
   "metadata": {},
   "source": [
    "Github sees our changes and propose us to do a so-called *pull request*:\n",
    "\n",
    "![image.png](attachment:b007a1e5-4ce0-4eff-b63e-d04438678765.png)\n",
    "\n",
    "A *pull request* is the way to merge two branches directly on Github, which has its advantages when working collaborativelly (see below).\n",
    "\n",
    "If this message does not appear, no worry: we can also do that by going in the \"Pull requests\" tab of the repo:\n",
    "\n",
    "![image.png](attachment:8b11a99e-6cf6-4a35-9ba3-d6cb6ce96789.png)\n",
    "\n",
    "In there, let's request a merge `main` ← `a-remote-branch` (yeah, it is written backward).\n",
    "\n",
    "![image.png](attachment:4f9dfc05-1284-4b0f-92d2-04d0633c0775.png)\n",
    "\n",
    "Note that it indicates if there is a conflict or not (more on that latter).\n",
    "\n",
    "A pull request is created. One can review the changes (**very important**) and accept them, which will trigger a *merge* on the remote side.\n",
    "\n",
    "The procedure is very similar in *gitlab* (except it is called a *merge request*).\n",
    "\n",
    "Thus, one needs to update the local `main` branch:"
   ]
  },
  {
   "cell_type": "code",
   "execution_count": 38,
   "id": "da0c87a3-b7ca-44a6-a6f9-d6064f558186",
   "metadata": {},
   "outputs": [
    {
     "name": "stderr",
     "output_type": "stream",
     "text": [
      "Switched to branch 'main'\n"
     ]
    },
    {
     "name": "stdout",
     "output_type": "stream",
     "text": [
      "Your branch is up to date with 'origin/main'.\n"
     ]
    },
    {
     "name": "stderr",
     "output_type": "stream",
     "text": [
      "X11 forwarding request failed on channel 0\n"
     ]
    },
    {
     "name": "stdout",
     "output_type": "stream",
     "text": [
      "Already up to date.\n"
     ]
    }
   ],
   "source": [
    "%%bash\n",
    "git switch main\n",
    "git pull"
   ]
  },
  {
   "cell_type": "markdown",
   "id": "f235c33f-2845-4559-b6f8-01f1e17dcc16",
   "metadata": {},
   "source": [
    "`git` pull is in fact a shortcut for `git fetch` +  `git merge origin/main`.\n",
    "\n",
    "**In short:** everytime you need to update a local branch so that it reflects the remote branch, use `git pull`.\n",
    "\n",
    "### Bonus track: GitHub actions\n",
    "\n",
    "What is nice about GitHub (this is not available [yet?] on the UNamur's gitlab) is that you can run some actions when something happens in you repo. For example:\n",
    "\n",
    "+ You can automatically run some tests to check wheter the pull request you received did not break anything (more on that in the Python lecture),\n",
    "+ You can update a website with your documentation (more on that in the Python lecture),\n",
    "+ and others.\n",
    "\n",
    "To use that, you need to put a specially formated YAML file in `.github/workflows/`. Let's try that:"
   ]
  },
  {
   "cell_type": "code",
   "execution_count": 39,
   "id": "0ccde051-8b71-4fcb-94b2-a74ee658792e",
   "metadata": {},
   "outputs": [
    {
     "name": "stdout",
     "output_type": "stream",
     "text": [
      "[main 0f96fbb] add test\n",
      " 1 file changed, 23 insertions(+)\n",
      " create mode 100644 .github/workflows/tests.yml\n"
     ]
    },
    {
     "name": "stderr",
     "output_type": "stream",
     "text": [
      "X11 forwarding request failed on channel 0\n",
      "To github.com:pierre-24/test-repo-git.git\n",
      "   bd66bb0..0f96fbb  main -> main\n"
     ]
    }
   ],
   "source": [
    "%%bash\n",
    "# create directory and copy file (see below)\n",
    "mkdir -p .github/workflows\n",
    "cp ../tests.yml .github/workflows\n",
    "# add file, commit, and send:\n",
    "git add .github/workflows/tests.yml\n",
    "git commit -am \"add test\"\n",
    "git push"
   ]
  },
  {
   "attachments": {
    "323c8487-44bf-416e-9ec0-0bc0d899f2cd.png": {
     "image/png": "[encoded data removed]"
    }
   },
   "cell_type": "markdown",
   "id": "5f1ebe76-43a1-46ef-9fde-2e91fcee2974",
   "metadata": {},
   "source": [
    "The green tick there...\n",
    "\n",
    "![image.png](attachment:323c8487-44bf-416e-9ec0-0bc0d899f2cd.png)\n",
    "\n",
    "... indicates that the test went well. Now, let's check out the content of this file:"
   ]
  },
  {
   "cell_type": "code",
   "execution_count": 40,
   "id": "5dca108d-4319-4507-bd24-cd0da5b87389",
   "metadata": {},
   "outputs": [
    {
     "name": "stdout",
     "output_type": "stream",
     "text": [
      "name: Run tests\n",
      "\n",
      "on:\n",
      "  push:\n",
      "    branches: [ main ]\n",
      "  pull_request:\n",
      "    branches: [ main ]\n",
      "\n",
      "jobs:\n",
      "  build:\n",
      "    runs-on: ubuntu-latest\n",
      "    strategy:\n",
      "      fail-fast: false\n",
      "    steps:\n",
      "      - uses: actions/checkout@v3  # mandatory\n",
      "      # then, put any step you want there:\n",
      "      - name: check that file1 exists\n",
      "        run: |\n",
      "          if [[ -e file1 ]]; then \n",
      "            exit 0\n",
      "          else \n",
      "            exit 1\n",
      "          fi\n"
     ]
    }
   ],
   "source": [
    "%%bash\n",
    "cat .github/workflows/tests.yml"
   ]
  },
  {
   "cell_type": "markdown",
   "id": "43d33819-db71-49a7-8039-3ff30ea75c29",
   "metadata": {},
   "source": [
    "In short (this is a huge topic and I only scratch the surface here, see <https://docs.github.com/en/actions>), the template for a an action file is:\n",
    "\n",
    "```yaml\n",
    "on:\n",
    "  %an-event%\n",
    "job:\n",
    "  a-job:\n",
    "    runs-on: %a-runner%\n",
    "    steps:\n",
    "      - step 1\n",
    "      - setp 2\n",
    "      - ...\n",
    "```\n",
    "\n",
    "where `%an-event%` is an event that happens in the remote (in the example above, this file is triggered on any pull requests that target `main` and any `git push` that targets `main`) and `%a-runner%` is a **virtual machine** set up by Github to run our test (here, the LTS of ubuntu). This is why the first step is necessarly `uses: actions/checkout@v3`, to retrieve our repo there. Then, you can call any command you want, **as long as it is available** (but you can also use `sudo apt-get install` to install tools and stuffs).\n",
    "\n",
    "Let's now see what this means in practice. If I ever create a branch where `file1` is deleted:"
   ]
  },
  {
   "cell_type": "code",
   "execution_count": 41,
   "id": "22610132-e25e-41d5-b740-3e0ceff78b25",
   "metadata": {},
   "outputs": [
    {
     "name": "stderr",
     "output_type": "stream",
     "text": [
      "Switched to a new branch 'branch-fail-tests'\n"
     ]
    },
    {
     "name": "stdout",
     "output_type": "stream",
     "text": [
      "branch 'branch-fail-tests' set up to track 'origin/main'.\n",
      "rm 'file1'\n",
      "[branch-fail-tests 1ce1cc2] delete file1\n",
      " 1 file changed, 1 deletion(-)\n",
      " delete mode 100644 file1\n"
     ]
    },
    {
     "name": "stderr",
     "output_type": "stream",
     "text": [
      "X11 forwarding request failed on channel 0\n",
      "remote: \n",
      "remote: Create a pull request for 'branch-fail-tests' on GitHub by visiting:        \n",
      "remote:      https://github.com/pierre-24/test-repo-git/pull/new/branch-fail-tests        \n",
      "remote: \n",
      "To github.com:pierre-24/test-repo-git.git\n",
      " * [new branch]      branch-fail-tests -> branch-fail-tests\n"
     ]
    },
    {
     "name": "stdout",
     "output_type": "stream",
     "text": [
      "branch 'branch-fail-tests' set up to track 'origin/branch-fail-tests'.\n"
     ]
    }
   ],
   "source": [
    "%%bash\n",
    "# create a branch (avoid directly working in main):\n",
    "git switch -c branch-fail-tests origin/main\n",
    "# delete file (yeah, you can do that):\n",
    "git rm file1\n",
    "git commit -am \"delete file1\"\n",
    "git push -u origin branch-fail-tests"
   ]
  },
  {
   "attachments": {
    "8d050441-856a-4fe6-9d51-fc8d630c0575.png": {
     "image/png": "[encoded data removed]"
    },
    "c52abfc0-7fe8-4c73-bec5-65eef9ab6675.png": {
     "image/png": "[encoded data removed]"
    },
    "d519fadf-f9f7-406d-b12e-f9fc1ab997d3.png": {
     "image/png": "[encoded data removed]"
    }
   },
   "cell_type": "markdown",
   "id": "e7d14378-5002-4254-976e-dacff3841624",
   "metadata": {},
   "source": [
    "As indicated in the output, one can directly create a pull request here: <https://github.com/pierre-24/test-repo-git/pull/new/branch-fail-tests>. Let's do so, and...\n",
    "\n",
    "![image.png](attachment:c52abfc0-7fe8-4c73-bec5-65eef9ab6675.png)\n",
    "\n",
    "... One should probably not merge that ;)\n",
    "\n",
    "In practice, it is the responsability of **the person that propose the pull request** to make sure that all tests passes (of course, it can be that modifying the tests is required).\n",
    "\n",
    "**Note:** it is possible to \"protect\" a branch by defining a set of rules in the \"branches\" menu of the \"Settings\" tab:\n",
    "\n",
    "![image.png](attachment:d519fadf-f9f7-406d-b12e-f9fc1ab997d3.png)\n",
    "\n",
    "In particular, it is possible to force tests to pass before being abble to merge a pull request:\n",
    "\n",
    "![image.png](attachment:8d050441-856a-4fe6-9d51-fc8d630c0575.png)"
   ]
  },
  {
   "cell_type": "code",
   "execution_count": null,
   "id": "2d2206e6-3f8a-46f3-aa62-098b750802cd",
   "metadata": {},
   "outputs": [],
   "source": []
  }
 ],
 "metadata": {
  "kernelspec": {
   "display_name": "Python 3 (ipykernel)",
   "language": "python",
   "name": "python3"
  },
  "language_info": {
   "codemirror_mode": {
    "name": "ipython",
    "version": 3
   },
   "file_extension": ".py",
   "mimetype": "text/x-python",
   "name": "python",
   "nbconvert_exporter": "python",
   "pygments_lexer": "ipython3",
   "version": "3.13.0"
  }
 },
 "nbformat": 4,
 "nbformat_minor": 5
}
