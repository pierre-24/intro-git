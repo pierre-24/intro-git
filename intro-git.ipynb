{
 "cells": [
  {
   "cell_type": "code",
   "execution_count": 1,
   "id": "596680cb-e48e-4b81-b3f8-4c38997960f0",
   "metadata": {},
   "outputs": [],
   "source": [
    "%%bash\n",
    "#cleanup\n",
    "rm -R example-part-1"
   ]
  },
  {
   "cell_type": "markdown",
   "id": "ad47503e-7294-48ec-9695-acaaa8af193c",
   "metadata": {},
   "source": [
    "# An introduction to git\n",
    "\n",
    "According to [Wikipedia](https://en.wikipedia.org/wiki/Git):\n",
    "\n",
    "- **Git** is a distributed version control system designed to track versions of files.\n",
    "- While Git is primarily used by programmers to collaboratively develop software, it can manage version control for any type of file. \n",
    "- One of Git's unique features is that it maintains a complete local copy of the entire repository (commonly referred to as a **repo**). \n",
    "  This independence from network access or a central server sets Git apart from other tools.\n",
    "- For collaboration, Git enables synchronization with repositories on **remote** machines. \n",
    "  Although all repositories with the same history are considered peers, developers often rely on a central server.\n",
    "\n",
    "Git’s decentralized design makes it a powerful tool for both individual developers and teams working on complex projects.\n",
    "\n",
    "## 1. Using git locally\n",
    "\n",
    "Let's start by creating an (empty) repo:"
   ]
  },
  {
   "cell_type": "code",
   "execution_count": 2,
   "id": "21404651-a921-4ef6-819e-ca2469f304b1",
   "metadata": {},
   "outputs": [
    {
     "name": "stdout",
     "output_type": "stream",
     "text": [
      "Initialized empty Git repository in /home/pierre/code/presentation-git/example-part-1/.git/\n"
     ]
    }
   ],
   "source": [
    "%%bash\n",
    "mkdir example-part-1\n",
    "cd example-part-1\n",
    "git init"
   ]
  },
  {
   "cell_type": "markdown",
   "id": "401580d1-1631-4e86-95fa-33a098fad656",
   "metadata": {},
   "source": [
    "A bit of Jupyter magic, not important for you:"
   ]
  },
  {
   "cell_type": "code",
   "execution_count": 3,
   "id": "128504d0-4c89-4145-bc47-dcf7288adfc3",
   "metadata": {},
   "outputs": [
    {
     "name": "stdout",
     "output_type": "stream",
     "text": [
      "/home/pierre/code/presentation-git/example-part-1\n"
     ]
    },
    {
     "name": "stderr",
     "output_type": "stream",
     "text": [
      "/home/pierre/code/presentation-git/venv/lib64/python3.13/site-packages/IPython/core/magics/osm.py:417: UserWarning: This is now an optional IPython functionality, setting dhist requires you to install the `pickleshare` library.\n",
      "  self.shell.db['dhist'] = compress_dhist(dhist)[-100:]\n"
     ]
    },
    {
     "data": {
      "text/plain": [
       "'/home/pierre/code/presentation-git/example-part-1'"
      ]
     },
     "execution_count": 3,
     "metadata": {},
     "output_type": "execute_result"
    }
   ],
   "source": [
    "%cd example-part-1\n",
    "%pwd"
   ]
  },
  {
   "cell_type": "markdown",
   "id": "4a8622e1-8eac-44ee-bbb8-70e0e0cca750",
   "metadata": {},
   "source": [
    "### Snapshot (*commit*)\n",
    "\n",
    "Now, let's create a first snapshot (*i.e.*, a **commit**):"
   ]
  },
  {
   "cell_type": "code",
   "execution_count": 4,
   "id": "7c4c8e73-17cf-40e4-aeba-49948d404783",
   "metadata": {},
   "outputs": [
    {
     "name": "stdout",
     "output_type": "stream",
     "text": [
      "[main (root-commit) 79e08f4] A first commit\n",
      " 1 file changed, 1 insertion(+)\n",
      " create mode 100644 file1\n"
     ]
    }
   ],
   "source": [
    "%%bash\n",
    "# create a file\n",
    "echo \"Hello git!\" > file1\n",
    "# add it and create a commit\n",
    "git add file1\n",
    "git commit -m \"A first commit\""
   ]
  },
  {
   "cell_type": "markdown",
   "id": "29611665-dbfe-460d-86d3-dca91d769a82",
   "metadata": {},
   "source": [
    "Note that:\n",
    "\n",
    "+ By default, a file is not tracked, so one needs to `git add` it.\n",
    "+ In practice, delta are stored, not files.\n",
    "+ The commit message could be whatever you want, but people generally report what has changed.\n",
    "\n",
    "### Making and adding changes\n",
    "\n",
    "The `git status` provides the state of the repo:"
   ]
  },
  {
   "cell_type": "code",
   "execution_count": 5,
   "id": "64146033-c3d2-4a81-af7e-6897e1a40a41",
   "metadata": {},
   "outputs": [
    {
     "name": "stdout",
     "output_type": "stream",
     "text": [
      "On branch main\n",
      "nothing to commit, working tree clean\n"
     ]
    }
   ],
   "source": [
    "%%bash\n",
    "git status"
   ]
  },
  {
   "cell_type": "markdown",
   "id": "9ea405a1-8889-410a-afd5-7eab15eadc14",
   "metadata": {},
   "source": [
    "Let's introduce a change:"
   ]
  },
  {
   "cell_type": "code",
   "execution_count": 6,
   "id": "bebfc6cc-a3f8-46c6-9771-cc29e29e55ad",
   "metadata": {},
   "outputs": [
    {
     "name": "stdout",
     "output_type": "stream",
     "text": [
      "On branch main\n",
      "Changes not staged for commit:\n",
      "  (use \"git add <file>...\" to update what will be committed)\n",
      "  (use \"git restore <file>...\" to discard changes in working directory)\n",
      "\tmodified:   file1\n",
      "\n",
      "no changes added to commit (use \"git add\" and/or \"git commit -a\")\n"
     ]
    }
   ],
   "source": [
    "%%bash\n",
    "echo \"changed\" > file1\n",
    "git status"
   ]
  },
  {
   "cell_type": "markdown",
   "id": "f290d72f-1a85-4780-a4d8-8d8af463ecec",
   "metadata": {},
   "source": [
    "As indicated by the output, using `git commit` would report no change (and would refuse to commit). Indeed, you **need** to do `git add file1`. Another option is to use:"
   ]
  },
  {
   "cell_type": "code",
   "execution_count": 7,
   "id": "a3581509-a43c-41b9-8271-34780455778a",
   "metadata": {},
   "outputs": [
    {
     "name": "stdout",
     "output_type": "stream",
     "text": [
      "[main d1030cf] add file1\n",
      " 1 file changed, 1 insertion(+), 1 deletion(-)\n"
     ]
    }
   ],
   "source": [
    "%%bash\n",
    "git commit -a -m \"add file1\"  # or `git -am \"...\"`"
   ]
  },
  {
   "cell_type": "markdown",
   "id": "c8a010b1-4194-4dcc-8e15-21362768c8d3",
   "metadata": {},
   "source": [
    "And then, you can see the history of your commits with:"
   ]
  },
  {
   "cell_type": "code",
   "execution_count": 8,
   "id": "84194d46-af96-4090-b8a6-ec4257743b7f",
   "metadata": {},
   "outputs": [
    {
     "name": "stdout",
     "output_type": "stream",
     "text": [
      "commit d1030cf3732a649496272b189d08615aa8dc21bf\n",
      "Author: pierre-24 <pierreb24@gmail.com>\n",
      "Date:   Fri Dec 13 23:18:19 2024 +0100\n",
      "\n",
      "    add file1\n",
      "\n",
      "commit 79e08f4f7c5e5009f5e3d7367f00fbaa42f402e5\n",
      "Author: pierre-24 <pierreb24@gmail.com>\n",
      "Date:   Fri Dec 13 23:18:19 2024 +0100\n",
      "\n",
      "    A first commit\n"
     ]
    }
   ],
   "source": [
    "%%bash\n",
    "git log"
   ]
  },
  {
   "cell_type": "markdown",
   "id": "d249cffe-97c2-4dcf-8ace-32b83c91159b",
   "metadata": {},
   "source": [
    "You can, of course, add multiple file at once, or even directories (with **all** their content):"
   ]
  },
  {
   "cell_type": "code",
   "execution_count": 9,
   "id": "533c2378-799c-409a-bb4c-daed7b1068e0",
   "metadata": {},
   "outputs": [],
   "source": [
    "%%bash\n",
    "# add multiple files\n",
    "echo \"another\" > file2\n",
    "echo \"another other\" > file3\n",
    "git add file2 file3\n",
    "# add a directory and all(!) its content\n",
    "mkdir directory\n",
    "echo \"another other other\" > directory/file4\n",
    "git add directory"
   ]
  },
  {
   "cell_type": "markdown",
   "id": "5f62d667-7518-447b-aba8-769b2f0862da",
   "metadata": {},
   "source": [
    "The status now indicates:"
   ]
  },
  {
   "cell_type": "code",
   "execution_count": 10,
   "id": "d9c7e7cc-251b-491c-aafb-24444aca1fec",
   "metadata": {},
   "outputs": [
    {
     "name": "stdout",
     "output_type": "stream",
     "text": [
      "On branch main\n",
      "Changes to be committed:\n",
      "  (use \"git restore --staged <file>...\" to unstage)\n",
      "\tnew file:   directory/file4\n",
      "\tnew file:   file2\n",
      "\tnew file:   file3\n",
      "\n"
     ]
    }
   ],
   "source": [
    "%%bash\n",
    "git status"
   ]
  },
  {
   "cell_type": "markdown",
   "id": "96856c31-4fa9-45a1-9597-25c0454138e9",
   "metadata": {},
   "source": [
    "Let's commit that:"
   ]
  },
  {
   "cell_type": "code",
   "execution_count": 11,
   "id": "6a2b7b21-ccad-4d87-b3bd-91545eeb8769",
   "metadata": {},
   "outputs": [
    {
     "name": "stdout",
     "output_type": "stream",
     "text": [
      "[main 759ba05] add stuffs\n",
      " 3 files changed, 3 insertions(+)\n",
      " create mode 100644 directory/file4\n",
      " create mode 100644 file2\n",
      " create mode 100644 file3\n"
     ]
    }
   ],
   "source": [
    "%%bash\n",
    "git commit -am \"add stuffs\""
   ]
  },
  {
   "cell_type": "markdown",
   "id": "b9c96701-234e-4787-b6de-3f06b8f5db2a",
   "metadata": {},
   "source": [
    "However, there are some file that you do not want to version (intermediate files, compiler logs, etc) → add them to a `.gitignore` file:"
   ]
  },
  {
   "cell_type": "code",
   "execution_count": 12,
   "id": "5e06f482-012f-474d-96df-8b7351ec5257",
   "metadata": {},
   "outputs": [
    {
     "name": "stdout",
     "output_type": "stream",
     "text": [
      "On branch main\n",
      "Untracked files:\n",
      "  (use \"git add <file>...\" to include in what will be committed)\n",
      "\ttest.log\n",
      "\n",
      "nothing added to commit but untracked files present (use \"git add\" to track)\n"
     ]
    }
   ],
   "source": [
    "%%bash\n",
    "echo \"a log file\" > test.log\n",
    "git status "
   ]
  },
  {
   "cell_type": "markdown",
   "id": "436e5aed-ae03-485a-acd0-bbcf19af5fc5",
   "metadata": {},
   "source": [
    "So far, nothing new. But if I add a rule into `.gitignore`, then:"
   ]
  },
  {
   "cell_type": "code",
   "execution_count": 13,
   "id": "40c857fa-665e-4afa-a793-e9d8aac5ca4d",
   "metadata": {},
   "outputs": [
    {
     "name": "stdout",
     "output_type": "stream",
     "text": [
      "On branch main\n",
      "Changes to be committed:\n",
      "  (use \"git restore --staged <file>...\" to unstage)\n",
      "\tnew file:   .gitignore\n",
      "\n"
     ]
    }
   ],
   "source": [
    "%%bash\n",
    "echo \"*.log\" > .gitignore\n",
    "git add .gitignore\n",
    "git status "
   ]
  },
  {
   "cell_type": "markdown",
   "id": "acc44f0b-db2c-4a0a-a0b3-aeba1cbffaab",
   "metadata": {},
   "source": [
    "... The `test.log` file is not listed. Even better, I cannot add it by mistake:"
   ]
  },
  {
   "cell_type": "code",
   "execution_count": 14,
   "id": "aa0e069b-c27a-4182-8919-b7c208e57edd",
   "metadata": {},
   "outputs": [
    {
     "name": "stderr",
     "output_type": "stream",
     "text": [
      "The following paths are ignored by one of your .gitignore files:\n",
      "test.log\n",
      "hint: Use -f if you really want to add them.\n",
      "hint: Disable this message with \"git config advice.addIgnoredFile false\"\n"
     ]
    }
   ],
   "source": [
    "%%bash --no-raise-error\n",
    "git add test.log"
   ]
  },
  {
   "cell_type": "markdown",
   "id": "0c691c37-6948-4111-814d-84ced527c14a",
   "metadata": {},
   "source": [
    "In practice:\n",
    "\n",
    "+ Add one rule per line (you can use wildcards, as seen above).\n",
    "+ Use <https://gitignore.io> to generate a `.gitignore` file that fits your repo."
   ]
  },
  {
   "cell_type": "markdown",
   "id": "834180d0-4a84-46fb-90c3-ee75e7789287",
   "metadata": {},
   "source": [
    "### Branching and navigating\n",
    "\n",
    "So far, the history is linear. But it could be nice to have to work on different things at the same time. So git introduced the concept of **branches**. In fact, git is not very useful if you work only a single branch (say, `main`), appart for the history of the modifications.\n",
    "\n",
    "```mermaid\n",
    "    gitGraph\n",
    "       commit\n",
    "       commit\n",
    "       branch new-feature\n",
    "       commit\n",
    "       checkout main\n",
    "       commit\n",
    "       branch another-feature\n",
    "       commit\n",
    "```\n",
    "\n",
    "(note: this example is ficticious)\n",
    "\n",
    "The first branch is called `main` (or `master`, in older version of git). Good practices recommand that you keep that branch \"clean\", and that you do any heavy work in a separate branch that you can later \"reconcile\" with your main branch.\n",
    "\n",
    "To create a new branch **from the current commit**:"
   ]
  },
  {
   "cell_type": "code",
   "execution_count": 15,
   "id": "7dc2cb94-e76c-481e-bcc9-655fca170306",
   "metadata": {},
   "outputs": [
    {
     "name": "stderr",
     "output_type": "stream",
     "text": [
      "Switched to a new branch 'new-feature'\n"
     ]
    }
   ],
   "source": [
    "%%bash\n",
    "git switch -c new-feature  # or `git checkout -b new-feature`"
   ]
  },
  {
   "cell_type": "markdown",
   "id": "ba40f75e-5cc4-46d0-bde5-7ff70639836d",
   "metadata": {},
   "source": [
    "Let's make some changes in that branch, for the fun of it:"
   ]
  },
  {
   "cell_type": "code",
   "execution_count": 16,
   "id": "c5546bf4-6a4e-4a0b-93f9-b6bab9f51180",
   "metadata": {},
   "outputs": [
    {
     "name": "stdout",
     "output_type": "stream",
     "text": [
      "[new-feature b47b189] add new feature\n",
      " 2 files changed, 2 insertions(+), 1 deletion(-)\n",
      " create mode 100644 .gitignore\n"
     ]
    }
   ],
   "source": [
    "%%bash\n",
    "echo \"content for new branch\" > file1\n",
    "git commit -am \"add new feature\""
   ]
  },
  {
   "cell_type": "markdown",
   "id": "bc968336-a21f-4e44-b54d-2feb9730b286",
   "metadata": {},
   "source": [
    "It is, of course, possible to switch from one branch to another (**once you have commited all changes**):"
   ]
  },
  {
   "cell_type": "code",
   "execution_count": 17,
   "id": "ceddabc7-a4d9-40ad-946f-c7a7fcb2ab55",
   "metadata": {},
   "outputs": [
    {
     "name": "stdout",
     "output_type": "stream",
     "text": [
      "content for new branch\n"
     ]
    },
    {
     "name": "stderr",
     "output_type": "stream",
     "text": [
      "Switched to branch 'main'\n"
     ]
    },
    {
     "name": "stdout",
     "output_type": "stream",
     "text": [
      "changed\n"
     ]
    }
   ],
   "source": [
    "%%bash \n",
    "cat file1\n",
    "git switch main  # or `git checkout main`\n",
    "cat file1"
   ]
  },
  {
   "cell_type": "markdown",
   "id": "298a008b-b4df-4850-b19e-e92532b6739a",
   "metadata": {},
   "source": [
    "Note that you can walk trough history by different means:\n",
    "\n",
    "+ The `git checkout` command allow you to move through history (*i.e.*, move the **index**). When you look at `git log`, you can see that all commit are associated with a hash (a long hexadecimal number). Using `git checkout xxxxxx` move you to that point. Note that it is not recommended to directly edit files from a random point in time (unless it is the last commit of the branch, of course). You can however start a new branch from that point and deal with the consequences later ;)\n",
    "+ Another way to visualize changes (without moving in time) is to use `git diff xxxxxx`, which will display the changes since that commit (although in the so-called *diff* format)."
   ]
  },
  {
   "cell_type": "code",
   "execution_count": 18,
   "id": "31022645-d30c-4e4c-8b65-f82323f5fa47",
   "metadata": {},
   "outputs": [
    {
     "name": "stderr",
     "output_type": "stream",
     "text": [
      "Switched to branch 'new-feature'\n"
     ]
    },
    {
     "name": "stdout",
     "output_type": "stream",
     "text": [
      "commit b47b189fd378d30b78263d7d66043f6e72729e6c\n",
      "Author: pierre-24 <pierreb24@gmail.com>\n",
      "Date:   Fri Dec 13 23:18:20 2024 +0100\n",
      "\n",
      "    add new feature\n",
      "\n",
      "commit 759ba055368ff38a7b7f3e82f4db6902c798d142\n",
      "Author: pierre-24 <pierreb24@gmail.com>\n",
      "Date:   Fri Dec 13 23:18:20 2024 +0100\n",
      "\n",
      "    add stuffs\n",
      "\n",
      "commit d1030cf3732a649496272b189d08615aa8dc21bf\n",
      "Author: pierre-24 <pierreb24@gmail.com>\n",
      "Date:   Fri Dec 13 23:18:19 2024 +0100\n",
      "\n",
      "    add file1\n",
      "\n",
      "commit 79e08f4f7c5e5009f5e3d7367f00fbaa42f402e5\n",
      "Author: pierre-24 <pierreb24@gmail.com>\n",
      "Date:   Fri Dec 13 23:18:19 2024 +0100\n",
      "\n",
      "    A first commit\n"
     ]
    }
   ],
   "source": [
    "%%bash\n",
    "git switch new-feature\n",
    "git log\n",
    "# git diff 125b7f2"
   ]
  },
  {
   "cell_type": "markdown",
   "id": "00f00e9b-6b63-4e97-8383-c1a45072878f",
   "metadata": {},
   "source": [
    "... So to actually navigate history and visualize, it might be easier to use graphical tools ;)\n",
    "\n",
    "### Merging branches\n",
    "\n",
    "So far (according to `git log`), we are in this kind of situation:\n",
    "\n",
    "```mermaid\n",
    "    gitGraph\n",
    "       commit id: \"A first commit\"\n",
    "       commit id: \"add file1\"\n",
    "       commit id: \"add stuffs\"\n",
    "       branch new-feature\n",
    "       commit id: \"add new feature\"\n",
    "```\n",
    "\n",
    "Say we are happy with the changes done in `new-feature` and we want to incorporate them in `main`. This operation is a *merge*:"
   ]
  },
  {
   "cell_type": "code",
   "execution_count": 19,
   "id": "d9725762-511d-4764-80ec-e21238bf88c3",
   "metadata": {},
   "outputs": [
    {
     "name": "stderr",
     "output_type": "stream",
     "text": [
      "Switched to branch 'main'\n"
     ]
    },
    {
     "name": "stdout",
     "output_type": "stream",
     "text": [
      "Updating 759ba05..b47b189\n",
      "Fast-forward\n",
      " .gitignore | 1 +\n",
      " file1      | 2 +-\n",
      " 2 files changed, 2 insertions(+), 1 deletion(-)\n",
      " create mode 100644 .gitignore\n"
     ]
    }
   ],
   "source": [
    "%%bash\n",
    "# switch back to main\n",
    "git switch main\n",
    "# merge new-feature into main\n",
    "git merge new-feature"
   ]
  },
  {
   "cell_type": "markdown",
   "id": "c009b8cd-cf4d-45ab-bd44-55b8d67ba38b",
   "metadata": {},
   "source": [
    "We will see later that this may result in conflicts, but this is not the case here.\n",
    "\n",
    "The result of this operation is:\n",
    "\n",
    "```mermaid\n",
    "    gitGraph\n",
    "       commit id: \"A first commit\"\n",
    "       commit id: \"add file1\"\n",
    "       commit id: \"add stuffs\"\n",
    "       branch new-feature\n",
    "       commit id: \"add new feature\"\n",
    "       checkout main\n",
    "       merge new-feature\n",
    "```\n",
    "\n",
    "Which is actually equivalent to:\n",
    "\n",
    "```mermaid\n",
    "    gitGraph\n",
    "       commit id: \"A first commit\"\n",
    "       commit id: \"add file1\"\n",
    "       commit id: \"add stuffs\"\n",
    "       commit id: \"add new feature\"\n",
    "```\n",
    "\n",
    "So the change is incorporated in `main`. Now that we are done with `new-feature`, we can delete it:"
   ]
  },
  {
   "cell_type": "code",
   "execution_count": 20,
   "id": "183a74cb-e2c2-4256-b9cc-34f530bf74d2",
   "metadata": {},
   "outputs": [
    {
     "name": "stdout",
     "output_type": "stream",
     "text": [
      "Deleted branch new-feature (was b47b189).\n"
     ]
    }
   ],
   "source": [
    "%%bash\n",
    "git branch -d new-feature"
   ]
  },
  {
   "cell_type": "markdown",
   "id": "1f9a7dc4-38ff-4752-8dd7-41e487953eb5",
   "metadata": {},
   "source": [
    "Note that you can also tag the current commit, so that it has a special meaning (and you can easily `git checkout THE_TAG` if any):"
   ]
  },
  {
   "cell_type": "code",
   "execution_count": 21,
   "id": "ca286dbb-00d4-4d50-a3c7-d5de91ca630a",
   "metadata": {},
   "outputs": [],
   "source": [
    "%%bash\n",
    "git tag v0.2"
   ]
  },
  {
   "cell_type": "markdown",
   "id": "498c40cb-3d3a-4878-9215-2d560824e856",
   "metadata": {},
   "source": [
    "### Dealing with conflicts\n",
    "\n",
    "Let's create a conflict by editing the same file in two different branches:"
   ]
  },
  {
   "cell_type": "code",
   "execution_count": 22,
   "id": "fb60a681-02f6-4a06-b17b-67bf5809020f",
   "metadata": {},
   "outputs": [
    {
     "name": "stderr",
     "output_type": "stream",
     "text": [
      "Switched to a new branch 'another-feature'\n"
     ]
    },
    {
     "name": "stdout",
     "output_type": "stream",
     "text": [
      "[another-feature d3087e9] edit file2 in branch another-feature\n",
      " 1 file changed, 1 insertion(+), 1 deletion(-)\n"
     ]
    },
    {
     "name": "stderr",
     "output_type": "stream",
     "text": [
      "Switched to branch 'main'\n"
     ]
    },
    {
     "name": "stdout",
     "output_type": "stream",
     "text": [
      "[main 48c17b5] edit file2 in branch main\n",
      " 1 file changed, 1 insertion(+), 1 deletion(-)\n"
     ]
    }
   ],
   "source": [
    "%%bash\n",
    "# create a new branch and edit file2\n",
    "git switch -c another-feature\n",
    "echo \"edited in branch another-feature\" > file2\n",
    "git commit -am \"edit file2 in branch another-feature\"\n",
    "# switch back to main and also edit file2\n",
    "git switch main\n",
    "echo \"edited in branch main\" > file2\n",
    "git commit -am \"edit file2 in branch main\""
   ]
  },
  {
   "cell_type": "markdown",
   "id": "aface69e-21b8-4333-885e-07c8621004bd",
   "metadata": {},
   "source": [
    "Now, if we try to merge `another-feature` in `main`, it reports a conflict:"
   ]
  },
  {
   "cell_type": "code",
   "execution_count": 23,
   "id": "db834f73-7f6d-4e27-915c-e660210332f7",
   "metadata": {},
   "outputs": [
    {
     "name": "stdout",
     "output_type": "stream",
     "text": [
      "Auto-merging file2\n",
      "CONFLICT (content): Merge conflict in file2\n",
      "Automatic merge failed; fix conflicts and then commit the result.\n"
     ]
    }
   ],
   "source": [
    "%%bash --no-raise-error\n",
    "git merge another-feature"
   ]
  },
  {
   "cell_type": "markdown",
   "id": "ab2242cb-a1da-4f43-8d57-71996224dc7b",
   "metadata": {},
   "source": [
    "Note that you cannot continue to use git if you don't resolve the conflict (but you can cancel the whole operation with `git merge --abort`).\n",
    "\n",
    "The content of the file clearly indicates the conflict:"
   ]
  },
  {
   "cell_type": "code",
   "execution_count": 24,
   "id": "5a0e6617-ef90-4207-a5db-f56e64de03db",
   "metadata": {},
   "outputs": [
    {
     "name": "stdout",
     "output_type": "stream",
     "text": [
      "<<<<<<< HEAD\n",
      "edited in branch main\n",
      "=======\n",
      "edited in branch another-feature\n",
      ">>>>>>> another-feature\n"
     ]
    }
   ],
   "source": [
    "%%bash\n",
    "cat file2"
   ]
  },
  {
   "cell_type": "markdown",
   "id": "5434e9af-9158-4c81-bb65-27694fe64dcd",
   "metadata": {},
   "source": [
    "Here, the `=======` line indicates the divergence. All the content above this line and after `<<<<<<< HEAD` line is content that exists in the current branch. Furthermore, all content below this line and before `>>>>>>> another feature` is content that is present in the other branch.\n",
    "\n",
    "To solve the conflict, just make up your mind on what should be the content, `git add` the conflicting file and commit the result. If you know which version is the good one, you can however use `git checkout` with `--our` (take the version of the current branch) or `--their` (take the version of the merging branch). For example:\n"
   ]
  },
  {
   "cell_type": "code",
   "execution_count": 25,
   "id": "20889c46-ecb9-4ca1-a239-8ceb1bad2f90",
   "metadata": {},
   "outputs": [
    {
     "name": "stderr",
     "output_type": "stream",
     "text": [
      "Updated 1 path from the index\n"
     ]
    },
    {
     "name": "stdout",
     "output_type": "stream",
     "text": [
      "edited in branch another-feature\n"
     ]
    }
   ],
   "source": [
    "%%bash\n",
    "git checkout --their file2\n",
    "cat file2"
   ]
  },
  {
   "cell_type": "markdown",
   "id": "519ef457-fba9-446b-a10b-c55a14ec2d4a",
   "metadata": {},
   "source": [
    "or:"
   ]
  },
  {
   "cell_type": "code",
   "execution_count": 26,
   "id": "192d27a6-87c1-4ed2-a29d-340f264b1cfc",
   "metadata": {},
   "outputs": [
    {
     "name": "stderr",
     "output_type": "stream",
     "text": [
      "Updated 1 path from the index\n"
     ]
    },
    {
     "name": "stdout",
     "output_type": "stream",
     "text": [
      "edited in branch main\n"
     ]
    }
   ],
   "source": [
    "%%bash\n",
    "git checkout --our file2\n",
    "cat file2"
   ]
  },
  {
   "cell_type": "markdown",
   "id": "f3030e73-cf1e-458b-afba-22f836b60947",
   "metadata": {},
   "source": [
    "And if we commit, we are good to go:"
   ]
  },
  {
   "cell_type": "code",
   "execution_count": 27,
   "id": "6ac18bef-fd2c-4d6f-84b4-9151089e4943",
   "metadata": {},
   "outputs": [
    {
     "name": "stdout",
     "output_type": "stream",
     "text": [
      "[main cdeb91d] solve conflict\n",
      "commit cdeb91d37a98d5f87e387527a0effb9cf4576a2a\n",
      "Merge: 48c17b5 d3087e9\n",
      "Author: pierre-24 <pierreb24@gmail.com>\n",
      "Date:   Fri Dec 13 23:18:20 2024 +0100\n",
      "\n",
      "    solve conflict\n",
      "\n",
      "commit 48c17b5854c6e519772bc64cc8b23e85590e8212\n",
      "Author: pierre-24 <pierreb24@gmail.com>\n",
      "Date:   Fri Dec 13 23:18:20 2024 +0100\n",
      "\n",
      "    edit file2 in branch main\n",
      "\n",
      "commit d3087e981bda932395f7266a854f2f0bc309564c\n",
      "Author: pierre-24 <pierreb24@gmail.com>\n",
      "Date:   Fri Dec 13 23:18:20 2024 +0100\n",
      "\n",
      "    edit file2 in branch another-feature\n"
     ]
    }
   ],
   "source": [
    "%%bash\n",
    "git commit -am \"solve conflict\"\n",
    "git log HEAD~2..HEAD"
   ]
  },
  {
   "attachments": {
    "77e3bf61-434f-4d21-8880-9ac8a6e12097.png": {
     "image/png": "[encoded data removed]"
    },
    "c7ec78fd-1059-4e76-bdbf-a1ca10a56c5f.png": {
     "image/png": "[encoded data removed]"
    }
   },
   "cell_type": "markdown",
   "id": "3ead18c9-9139-4c05-9690-9d31c4c89ece",
   "metadata": {},
   "source": [
    "As you can see, the history now contains all commits plus the commit to solve the conflict. We will see below that there are other strategies to deal with conflicts ;)\n",
    "\n",
    "## 2. Working with remotes (that you created)\n",
    "\n",
    "So far, our repo only exists in our computer. This is not very useful for sharing (or collaborative work, se below), so one needs to synchronize it with a *remote* location. Let's consider two platforms (there are other, with similar workflows): Github and Gitlab (the latter is available at UNamur at <gitlab.unamur.be>).\n",
    "\n",
    "On github, the first step is to create a **new repository**:\n",
    "\n",
    "![image.png](attachment:77e3bf61-434f-4d21-8880-9ac8a6e12097.png)\n",
    "\n",
    "On gitlab, you need to create a **new project**:\n",
    "\n",
    "![image.png](attachment:c7ec78fd-1059-4e76-bdbf-a1ca10a56c5f.png)\n",
    "\n",
    "In both cases, once the repo is created, the next step is to add the remote, and send the repo there:"
   ]
  },
  {
   "cell_type": "code",
   "execution_count": 28,
   "id": "436984c9-1716-4a92-8624-9613a1b58330",
   "metadata": {},
   "outputs": [],
   "source": [
    "%%bash\n",
    "# add a remote\n",
    "git remote add origin git@github.com:pierre-24/test-git-repo.git\n",
    "# send your stuffs there\n",
    "# git push -u origin main"
   ]
  },
  {
   "cell_type": "markdown",
   "id": "1e65ceab-3da9-45c7-a66b-e46408a8fae3",
   "metadata": {},
   "source": [
    "**Note:** for this to work, you need to have configured Github/Gitlab with a SSH key. It is good practice to do so.\n",
    "\n",
    "So the workflow is the following:\n",
    "\n",
    "+ Every time you create a branch, you need to use `git push -u origin THE_BRANCH`.\n",
    "+ Every time you create a new commit, perform a merge, or any other action that affect the history, you need to do `git push` (you might need to use `git push -f`, we'll see later when).\n",
    "+ To retrieve changes that are in the remote but not yet in your local *repo*, use `git pull`.\n",
    "+ Collaboration (or even working alone on different things at the same time) may result in conflict, so be careful to make changes **in a separate branch**. \n",
    "\n"
   ]
  },
  {
   "cell_type": "code",
   "execution_count": 29,
   "id": "41c79ced-5bfb-41ff-8e9b-a165b5a0b839",
   "metadata": {},
   "outputs": [],
   "source": [
    "%%bash\n",
    "# example:\n",
    "# git push, git pull."
   ]
  },
  {
   "attachments": {
    "746b941a-0484-4ca8-a00c-016f962a1a4e.png": {
     "image/png": "[encoded data removed]"
    }
   },
   "cell_type": "markdown",
   "id": "46d7cd43-0c90-4884-9e0f-fa3a51634e84",
   "metadata": {},
   "source": [
    "Now you know enough to understand this joke:\n",
    "\n",
    "![image.png](attachment:746b941a-0484-4ca8-a00c-016f962a1a4e.png)\n",
    "\n",
    "## 3. Collaborating (and working with remotes where you cannot directly write)\n",
    "\n",
    "xxx."
   ]
  },
  {
   "cell_type": "code",
   "execution_count": null,
   "id": "6dcdc6b2-44ee-42ab-a564-a46f29b4f090",
   "metadata": {},
   "outputs": [],
   "source": []
  }
 ],
 "metadata": {
  "kernelspec": {
   "display_name": "Python 3 (ipykernel)",
   "language": "python",
   "name": "python3"
  },
  "language_info": {
   "codemirror_mode": {
    "name": "ipython",
    "version": 3
   },
   "file_extension": ".py",
   "mimetype": "text/x-python",
   "name": "python",
   "nbconvert_exporter": "python",
   "pygments_lexer": "ipython3",
   "version": "3.13.0"
  }
 },
 "nbformat": 4,
 "nbformat_minor": 5
}
